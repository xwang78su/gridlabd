{
 "cells": [
  {
   "cell_type": "markdown",
   "id": "619dc946",
   "metadata": {},
   "source": [
    "# This notebook is used to calculate the simplified duct bank model based on matrix formulation."
   ]
  },
  {
   "cell_type": "markdown",
   "id": "d0641de7",
   "metadata": {},
   "source": [
    "## 1. First we show an example of 3x2 duct bank and define several key parameters of the duct bank."
   ]
  },
  {
   "cell_type": "markdown",
   "id": "aeb156c8",
   "metadata": {},
   "source": [
    "![Example Box 3x2](box3x2.png \"Example Box 3x2\")"
   ]
  },
  {
   "cell_type": "markdown",
   "id": "03b19ed8",
   "metadata": {},
   "source": [
    "There are several parameters related to the duct banks.\n",
    "\n",
    "\n",
    "For the duct bank diameter and thickness, we have\n",
    "\n",
    "- $id_{duct}$: duct bank inside diameter\n",
    "\n",
    "- $od_{duct}$: duct bank outside diameter \n",
    "\n",
    "- $t_{duct}$:  duct bank wall thickness\n",
    "\n",
    "- $r_d = od_{duct}/2$: radius of the duct bank or channel\n",
    "\n",
    "The layout of the duct banks are:\n",
    "\n",
    "- $row$: The number of rows of duct banks in the layout.\n",
    "\n",
    "- $col$: The number of columns of duct banks in the layout.\n",
    "\n",
    "- $d_g$: The depth of the concrete top surface below the earth's surface, measured in inches.\n",
    "\n",
    "- $d_{vert}$: The vertical distance between the centers of two duct banks.\n",
    "\n",
    "- $d_{hori}$: The horizontal distance between the centers of two duct banks.\n",
    "\n",
    "- $d_{top}$: The distance between the center of the __first__ row duct bank and the concrete __top__ surface.\n",
    "\n",
    "- $d_{down}$: The distance between the center of the __last__ row duct bank and the concrete __button__ surface.\n",
    "\n",
    "- $d_{left}$: The distance between the center of the __first__ column duct bank and the concrete __left__ surface.\n",
    "\n",
    "- $d_{right}$: The distance between the center of the __last__ row duct bank and the concrete __right__ surface.\n",
    "\n",
    "The concrete has the following dimensions:\n",
    "\n",
    "- $x$: horizontal length\n",
    "\n",
    "- $y$: vertical height \n"
   ]
  },
  {
   "cell_type": "markdown",
   "id": "5e575880",
   "metadata": {},
   "source": [
    "## 2. Now we show the matrix formulation for 2 by 2 duct bank. "
   ]
  },
  {
   "cell_type": "markdown",
   "id": "4bee056a",
   "metadata": {},
   "source": [
    "Suppose we have a 2x2 duct bank system. There are four ducts indexed as $1, 2, 3, 4$. \n",
    "\n",
    "- $T_i, \\; i=$ 1, 2, 3, 4 is the cable core temperature for cable $i$\n",
    "- $Q_i$ is the heat source input from cable $i$ in watt\n",
    "\n",
    "The four ducts are confined in a concrete and buried underground. The heat come from the four cables and finally the concrete reaches a heat equilibrium by dissipating heat to the ambient air via the earth fill on top. We have\n",
    "\n",
    "- $T_d$ is the duct bank surface temperature in degree Celsius\n",
    "- $T_a$ is the ambient air temperature in degree Celsius.\n"
   ]
  },
  {
   "cell_type": "markdown",
   "id": "cba5d6e3",
   "metadata": {},
   "source": [
    "First, we define \n",
    "\n",
    "- $U_g$: the conductance between the duct bank concrete and the ground.\n",
    "\n",
    "Now, we define the conductance on the left, top, right, and down of an channel $i$ as follows:\n",
    "\n",
    "- $U_{il}$: the thermal conductance between the channel $i$ and the object on its __left__ (the object can be the duct bank surface or another channel);\n",
    "\n",
    "- $U_{it}$: the thermal conductance between the channel $i$ and the object on its __top__ (the object can be the duct bank surface or another channel);\n",
    "\n",
    "- $U_{ir}$: the thermal conductance between the channel $i$ and the object on its __right__ (the object can be the duct bank surface or another channel);\n",
    "\n",
    "- $U_{id}$: the thermal conductance between the channel $i$ and the object on its __down__ (the object can be the duct bank surface or another channel).\n",
    "\n",
    "The specific calculation of the above conductance will be given later. \n",
    "\n",
    "In addition, we define the total conductance around channel $i$ as follows:\n",
    "\n",
    "- $U_{iT}$: the total thermal condutance around the channel $i$, i.e., the summation of conductance from its left, top, right, and down.\n",
    "\n",
    "This means:\n",
    "\n",
    "$$U_{iT} = U_{il} + U_{it} + U_{ir} + U_{id}.$$"
   ]
  },
  {
   "cell_type": "markdown",
   "id": "8a6aa22f",
   "metadata": {},
   "source": [
    "For the 2 by 2 duct bank, we can write the following 5 thermal equilibrium equations:\n",
    "\n",
    "\\begin{equation}\n",
    "\\begin{aligned}\n",
    "(T_d - T_a) U_g = Q_1 + Q_2 + Q_3 + Q_4 \\\\\n",
    "(T_1 - T_d) U_{1l} + (T_1 - T_d) U_{1t} + (T_1 - T_2) U_{1r} + (T_1 - T_3) U_{1d} = Q_1 \\\\\n",
    "(T_2 - T_1) U_{2l} + (T_2 - T_d) U_{2t} + (T_2 - T_d) U_{2r} + (T_2 - T_4) U_{2d} = Q_2 \\\\\n",
    "(T_3 - T_d) U_{3l} + (T_3 - T_1) U_{3t} + (T_3 - T_4) U_{3r} + (T_3 - T_d) U_{3d} = Q_3 \\\\\n",
    "(T_4 - T_3) U_{4l} + (T_4 - T_2) U_{4t} + (T_4 - T_d) U_{4r} + (T_4 - T_d) U_{4d} = Q_4 \\\\\n",
    "\\end{aligned}\n",
    "\\end{equation}"
   ]
  },
  {
   "cell_type": "markdown",
   "id": "53667e27",
   "metadata": {},
   "source": [
    "Defining\n",
    "\n",
    "\\begin{equation}\n",
    "\\boldsymbol{x} = \n",
    "\\begin{bmatrix}\n",
    "T_1 \\\\\n",
    "T_2 \\\\\n",
    "T_3 \\\\\n",
    "T_4 \\\\\n",
    "T_d \\\\\n",
    "\\end{bmatrix}\n",
    ", \\quad\n",
    "\\boldsymbol{u} = \n",
    "\\begin{bmatrix}\n",
    "Q_1 \\\\\n",
    "Q_2 \\\\\n",
    "Q_3 \\\\\n",
    "Q_4 \\\\\n",
    "T_a \\\\\n",
    "\\end{bmatrix}\n",
    ",\n",
    "\\end{equation}\n",
    "\n",
    "then we have the state-spacee equation as follows:"
   ]
  },
  {
   "cell_type": "markdown",
   "id": "8fcf00a2",
   "metadata": {},
   "source": [
    "$$\n",
    "\\boldsymbol{\\dot x} = \\boldsymbol{A} \\boldsymbol{x} + \\boldsymbol{B} \\boldsymbol{u}\n",
    "$$\n",
    "\n",
    "where \n",
    "\n",
    "\\begin{equation}\n",
    "\\boldsymbol{A} = \n",
    "\\begin{bmatrix}\n",
    "0& 0& 0& 0& -U_g \\\\\n",
    "-U_{1T}& U_{1r}& U_{1d}& 0& U_{1l}+U_{1t} \\\\\n",
    "U_{2l}& -U_{2T}& 0& U_{2d}& U_{2t}+U_{2r} \\\\\n",
    "U_{3t}& 0& -U_{3T}& U_{3r}& U_{3l}+U_{3d} \\\\\n",
    "0& U_{4t}& U_{4l}& -U_{4T}& U_{4r}+U_{4d} \\\\\n",
    "\\end{bmatrix}\n",
    ", \\quad\n",
    "\\boldsymbol{B} = \n",
    "\\begin{bmatrix}\n",
    "1& 1& 1& 1& U_g\\\\\n",
    "1& 0& 0& 0& 0\\\\\n",
    "0& 1& 0& 0& 0\\\\\n",
    "0& 0& 1& 0& 0\\\\\n",
    "0& 0& 0& 1& 0\\\\\n",
    "\\end{bmatrix}\n",
    "\\end{equation}"
   ]
  },
  {
   "cell_type": "markdown",
   "id": "d676b969",
   "metadata": {},
   "source": [
    "When the duct banks, concrete, and earth reach a heat equilibrium, we have $\\boldsymbol{\\dot x} = 0$."
   ]
  },
  {
   "cell_type": "markdown",
   "id": "ca15392b",
   "metadata": {},
   "source": [
    "Therefore, we have \n",
    "\n",
    "$$\\boldsymbol{A} \\boldsymbol{x} + \\boldsymbol{B} \\boldsymbol{u} = 0,$$\n",
    "\n",
    "which enables us to get \n",
    "\n",
    "$$\\boldsymbol{x} = - \\boldsymbol{A}^{-1} \\boldsymbol{B} \\boldsymbol{u} $$\n"
   ]
  },
  {
   "cell_type": "markdown",
   "id": "c47de32d",
   "metadata": {},
   "source": [
    "## 3. The matrix formulation for N duct bank (m by n)"
   ]
  },
  {
   "cell_type": "markdown",
   "id": "e9396ded",
   "metadata": {},
   "source": [
    "Similarly, we can formulate the thermal equilibrium equations as follows:"
   ]
  },
  {
   "cell_type": "markdown",
   "id": "16e516ba",
   "metadata": {},
   "source": [
    "\\begin{equation}\n",
    "\\begin{aligned}\n",
    "(T_d - T_a) U_g = \\sum\\limits_{i=1}^{N}Q_i \\\\\n",
    "\\sum\\limits_{k=l,t,r,d} (T_i - T_{ik}) U_{ik} = Q_i, \\forall i =1, 2, \\cdots, N \\\\\n",
    "\\end{aligned}\n",
    "\\end{equation}\n",
    "\n",
    "where \n",
    "\n",
    "- $T_{ik}$: the temperature of channel $i$'s $k$ direction ($k = l, t, r, d$ means the direction can be left, top, right, and down) object. When the object is the duct bank surface, then $T_{ik}$ is $T_d$. In other cases, it would be the corresponding channel cable temperature\n",
    "\n",
    "- $U_{ik}$: the thermal conductance between the channel $i$ and the object on its $k$ direction"
   ]
  },
  {
   "cell_type": "markdown",
   "id": "3a88db0c",
   "metadata": {},
   "source": [
    "The system state $\\boldsymbol{x}$ and the system input $\\boldsymbol{u}$ are\n",
    "\n",
    "\\begin{equation}\n",
    "\\boldsymbol{x} =\n",
    "\\begin{bmatrix}\n",
    "T_1 \\\\\n",
    "T_2 \\\\\n",
    "\\vdots \\\\\n",
    "T_N \\\\\n",
    "T_d \\\\\n",
    "\\end{bmatrix}\n",
    ", \\quad\n",
    "\\boldsymbol{u} =\n",
    "\\begin{bmatrix}\n",
    "Q_1 \\\\\n",
    "Q_2 \\\\\n",
    "\\vdots \\\\\n",
    "Q_N \\\\\n",
    "T_a \\\\\n",
    "\\end{bmatrix}\n",
    ".\n",
    "\\end{equation}\n"
   ]
  },
  {
   "cell_type": "markdown",
   "id": "47477579",
   "metadata": {},
   "source": [
    "then we have the state-spacee equation as follows:\n",
    "$$\n",
    "\\boldsymbol{\\dot x} = \\boldsymbol{A} \\boldsymbol{x} + \\boldsymbol{B} \\boldsymbol{u}\n",
    "$$\n",
    "\n",
    "where \n",
    "\n",
    "\\begin{equation}\n",
    "\\boldsymbol{B} =\n",
    "\\begin{bmatrix}\n",
    "1& 1& \\cdots& 1& U_g\\\\\n",
    "1& 0& \\cdots& 0& 0\\\\\n",
    "0& 1& \\cdots& 0& 0\\\\\n",
    "\\vdots& \\vdots& \\ddots & \\vdots& \\vdots\\\\\n",
    "0& 0& \\cdots& 1& 0\\\\\n",
    "\\end{bmatrix}\n",
    "\\end{equation}"
   ]
  },
  {
   "cell_type": "markdown",
   "id": "f7f75715",
   "metadata": {},
   "source": [
    "It is worth noting that we do not have an analytic expression for matrix $\\boldsymbol{A}$ as its values depends on rows and columns of the duct banks.\n",
    "\n",
    "We know some values of $\\boldsymbol{A}$:\n",
    "\n",
    "\\begin{equation}\n",
    "\\boldsymbol{A} =\n",
    "\\begin{bmatrix}\n",
    "0& 0& \\cdots& 0& -U_g\\\\\n",
    "-U_{1T}& ?& \\cdots& ?& ?\\\\\n",
    "?& -U_{2T}& \\cdots& ?& ?\\\\\n",
    "\\vdots& \\vdots& \\ddots & \\vdots& \\vdots\\\\\n",
    "?& ?& \\cdots& -U_{NT}& ?\\\\\n",
    "\\end{bmatrix}\n",
    "\\end{equation}\n",
    "\n",
    "\n",
    "For the values in the other rows, we need to investigate the row and column of channel $i$ and then assign the corresponding values.\n",
    "\n",
    "- We define a matrix $A_{block}$, which is a N by N matrix. $A_{block}$ matrix is part of $\\boldsymbol{A}$ matrix, from the second to last row, and first column to (N-1) column.\n",
    "\n",
    "- For a row in $A_{block}$, for the diagnal value, it is the negative of the sum of the conductances to its four neighbors. \n",
    "\n",
    "- Define another vector $A_{Td}$, it is a N by 1 vector that will be the last column, row 2 to row N of $\\boldsymbol{A}$. \n",
    "\n",
    "- For the off-diagonal element $A_{block, ij}$, we will check the neighbors of $i$. If the neighbor $k$ is the concrete wall, then add $U_{ik}$ to $A_{Td}$'s $i$th value. If the neighbor $k$ is another channel, then use $U_{ik}$ as the element $A_{block, ij}$, where $j$ is the index of the $i$'s $k$ direction neighbor. \n"
   ]
  },
  {
   "cell_type": "markdown",
   "id": "f5661651",
   "metadata": {},
   "source": [
    "## 4. Calculating matrix $\\boldsymbol{B}$"
   ]
  },
  {
   "cell_type": "markdown",
   "id": "137c5967",
   "metadata": {},
   "source": [
    "There is only one variable in matrix $\\boldsymbol{B}$, i.e., $U_g$."
   ]
  },
  {
   "cell_type": "markdown",
   "id": "07baf35e",
   "metadata": {},
   "source": [
    "### Calculating $U_g$, in W/°C·ft"
   ]
  },
  {
   "cell_type": "markdown",
   "id": "d4b37835",
   "metadata": {},
   "source": [
    "Define\n",
    "\n",
    "- $U_g$: in W/°C·ft, is thermal __conductance__ between the duct bank top surface and the ground surface\n",
    "- $R_g$: in °C·ft/W, is thermal __resistance__ between the duct bank top surface and the ground surface\n",
    "\n",
    "then we have \n",
    "$$ U_g = \\frac{1}{R_g}. $$"
   ]
  },
  {
   "cell_type": "markdown",
   "id": "d3941614",
   "metadata": {},
   "source": [
    "The thermal resistance between the duct bank top surface and the ground surface can be calculated as:\n",
    "\n",
    "$$ R_g = 0.012 \\rho_{earth} log \\frac{(d_g+r_b)}{r_b} $$\n",
    "\n",
    "where\n",
    "\n",
    "- $\\rho_{earth}$: the thermal conductivity of the ground material, in °C·cm/W\n",
    "\n",
    "- $d_g$: the depth from the duct bank top surface to the ground surface, in inches\n",
    "\n",
    "- $r_b$: the radius of the equivalent circle for the duct bank concrete, in inches\n",
    "\n",
    "$R_g$ is in °C·ft/W, which is also called thermal ohm-foot (used in the United States). Essentially, $R_g$ and $\\rho_{earth}$ have the same unit except that the latter use cm instead of ft.\n",
    "\n",
    "The coefficient 0.012 comes from the standard calculation of the insulation and the unit conversion. A reference for the thermal resistance calculation of the insulation can be found [here](https://www.omnicalculator.com/physics/thermal-resistance). \n",
    "\n",
    "The specific derivation of the thermal resistance of a cylinder is shown [here](https://www.studysmarter.us/textbooks/physics/university-physics-with-modern-physics-14th-edition/thermodynamics/q115cp-a-hollow-cylinder-has-length-l-inner-radius-a-and-out/)."
   ]
  },
  {
   "cell_type": "code",
   "execution_count": 80,
   "id": "f3bebb9c",
   "metadata": {},
   "outputs": [
    {
     "name": "stdout",
     "output_type": "stream",
     "text": [
      "The thermal conductance of the earth is: 0.443 (W/°C·ft)\n"
     ]
    }
   ],
   "source": [
    "# calculate the Ug\n",
    "import numpy as np\n",
    "\n",
    "x = 18.5\n",
    "y = 22.5\n",
    "dg = 36\n",
    "\n",
    "# thermal resistance: degree-cm/W\n",
    "rho_insulation = 550  # insulation\n",
    "rho_jacket = 550      # insulation jacket\n",
    "rho_duct = 480        # fiber duct\n",
    "rho_earth = 120       # earth\n",
    "rho_concrete = 85     # concrete\n",
    "\n",
    "def cal_rb(x, y):\n",
    "    rb_c1 = x/y/2*(4/np.pi-x/y)\n",
    "    rb_c2 = np.log10(1+y**2/x**2)\n",
    "    rb_c3 = np.log10(x/2)   \n",
    "    rb = 10**(rb_c1*rb_c2+rb_c3)\n",
    "\n",
    "    return rb\n",
    "\n",
    "rb = cal_rb(x, y)\n",
    "\n",
    "Rg = 0.012*rho_earth*np.log10(dg+rb/rb) # thermal ohm-foot\n",
    "\n",
    "Ug = round(1/Rg, 3)\n",
    "\n",
    "print('The thermal conductance of the earth is: ' + str(Ug) + ' (W/°C·ft)')"
   ]
  },
  {
   "cell_type": "markdown",
   "id": "896acdaa",
   "metadata": {},
   "source": [
    "Given $U_g$, then we have matrix $\\boldsymbol{B}$ as follows:\n",
    "\\begin{equation}\n",
    "\\boldsymbol{B} =\n",
    "\\begin{bmatrix}\n",
    "1& 1& \\cdots& 1& U_g\\\\\n",
    "1& 0& \\cdots& 0& 0\\\\\n",
    "0& 1& \\cdots& 0& 0\\\\\n",
    "\\vdots& \\vdots& \\ddots & \\vdots& \\vdots\\\\\n",
    "0& 0& \\cdots& 1& 0\\\\\n",
    "\\end{bmatrix}\n",
    "\\end{equation}"
   ]
  },
  {
   "cell_type": "markdown",
   "id": "a90acf3c",
   "metadata": {},
   "source": [
    "## 5. Calculating matrix $\\boldsymbol{A}$"
   ]
  },
  {
   "cell_type": "markdown",
   "id": "65e53e2e",
   "metadata": {},
   "source": [
    "The matrix $\\boldsymbol{A}$ comes from the following thermal equilibrium equations:\n",
    "\n",
    "\\begin{equation}\n",
    "\\begin{aligned}\n",
    "(T_d - T_a) U_g = \\sum\\limits_{i=1}^{N}Q_i \\\\\n",
    "\\sum\\limits_{k=l,t,r,d} (T_i - T_{ik}) U_{ik} = Q_i, \\forall i =1, 2, \\cdots, N \\\\\n",
    "\\end{aligned}\n",
    "\\end{equation}\n",
    "\n",
    "where \n",
    "\n",
    "- $T_{ik}$: the temperature of channel $i$'s $k$ direction ($k = l, t, r, d$ means the direction can be left, top, right, and down) object. When the object is the duct bank surface, then $T_{ik}$ is $T_d$. In other cases, it would be the corresponding channel cable temperature\n",
    "\n",
    "- $U_{ik}$: the thermal conductance between the channel $i$ and the object on its $k$ direction"
   ]
  },
  {
   "cell_type": "markdown",
   "id": "563a903b",
   "metadata": {},
   "source": [
    "### 5.1 Calculating $U_{ik}$ for a given $i$, $k$"
   ]
  },
  {
   "cell_type": "markdown",
   "id": "b7935a86",
   "metadata": {},
   "source": [
    "Similarly, we start with calculating the thermal resistance and then obtain the thermal conductance."
   ]
  },
  {
   "cell_type": "markdown",
   "id": "3ae569ff",
   "metadata": {},
   "source": [
    "The calculation of $R_{ik}$ includes three parts:\n",
    "\n",
    "- $R_{in}$: Thermal resistance of the cable and its insulation\n",
    "\n",
    "- $R_{sd}$: Thermal resistance bewteen cable surface and surrounding duct (including the duct wall)\n",
    "\n",
    "- $R_{dk}$: Thermal resistance between the duct surface and the $k$ direction object.\n",
    "\n",
    "namely, $$ R_{ik} = R_{in} + R_{sd} + R_{dk} .$$\n",
    "\n",
    "The $R_{in}$ and $R_{sd}$ can be calculated in a similar way like the cylinder. Here we take them as direct inputs as\n",
    "\n",
    "- $R_{in}$ = 0.9 # thermal ohm-foot, or ˚C·ft/W\n",
    "\n",
    "- $R_{sd}$ = 1.74 # thermal ohm-foot\n",
    "\n",
    "$R_{dk}$ can be approximated by using the distance from the duct bank surface to object surface (if the object is another channel, we assume the distance to the center of the other duct bank).\n",
    "\n",
    "Specifically, we have\n",
    "$$ R_{dk} = 0.012 \\rho_{concrete} log \\frac{d_{ik}}{r_d} $$\n",
    "\n",
    "- $\\rho_{concrete}$: the thermal conductivity of the concrete fill, in °C·cm/W\n",
    "\n",
    "- $d_{ik}$: the distance from the duct bank $i$ center to the $k$ direction object (concrete surface, channel center) , in inches\n",
    "\n",
    "- $r_d$: the radius of the duct bank, including the duct wall, in inches\n",
    "\n",
    "Therefore, we can get the $U_{ik}$ as\n",
    "\n",
    "$$ U_{ik} = \\frac{1}{0.25*(R_{in} + R_{sd} + 0.012 \\rho_{concrete} log \\frac{d_{ik}}{r_d})}. $$\n",
    "\n",
    "where 0.25 is used to show that we only consider one direction of the cylinder.\n"
   ]
  },
  {
   "cell_type": "markdown",
   "id": "e44c985c",
   "metadata": {},
   "source": [
    "### 5.2 Calculating $U_{ik}$, for all $i$, $k$"
   ]
  },
  {
   "cell_type": "markdown",
   "id": "a1baa1a6",
   "metadata": {},
   "source": [
    "We have the following input parameters:\n",
    "\n",
    "- $d_{top}$: The distance between the center of the __first__ row duct bank and the concrete __top__ surface.\n",
    "\n",
    "- $d_{down}$: The distance between the center of the __last__ row duct bank and the concrete __button__ surface.\n",
    "\n",
    "- $d_{left}$: The distance between the center of the __first__ column duct bank and the concrete __left__ surface.\n",
    "\n",
    "- $d_{right}$: The distance between the center of the __last__ row duct bank and the concrete __right__ surface.\n",
    "\n",
    "For each specific channel $i$, we define a vector $d_{i,vec}$ that stores distances to the four directions (left, top, right, and down), i.e., \n",
    "\n",
    "$$d_{i,vec} = [d_{il}, d_{it}, d_{ir}, d_{id}]$$\n",
    "\n",
    "where \n",
    "\n",
    "- $d_{il}$: the distance from the center of channel $i$ to __left__ object\n",
    "\n",
    "- $d_{it}$: the distance from the center of channel $i$ to __top__ object\n",
    "\n",
    "- $d_{ir}$: the distance from the center of channel $i$ to __right__ object\n",
    "\n",
    "- $d_{id}$: the distance from the center of channel $i$ to __down__ object\n",
    "\n",
    "It is worth noting that the object could be the concrete surface or another channel, which depends on the location of the channel $i$ in the concrete.\n"
   ]
  },
  {
   "cell_type": "markdown",
   "id": "1debfc22",
   "metadata": {},
   "source": [
    "For each specific channel $i$, we define another vector $U_{i,vec}$ that stores the conductance to the four directions (left, top, right, and down), i.e., \n",
    "\n",
    "$$U_{i,vec} = [U_{il}, U_{it}, U_{ir}, U_{id}]$$\n",
    "\n",
    "where \n",
    "\n",
    "- $U_{il}$: the thermal conductance from the center of channel $i$ to __left__ object\n",
    "\n",
    "- $U_{it}$: the thermal conductance from the center of channel $i$ to __top__ object\n",
    "\n",
    "- $U_{ir}$: the thermal conductance from the center of channel $i$ to __right__ object\n",
    "\n",
    "- $U_{id}$: the thermal conductance from the center of channel $i$ to __down__ object\n",
    "\n",
    "The calculation of $U_{i,vec}$ depends on the values of $d_{i,vec}$.\n"
   ]
  },
  {
   "cell_type": "markdown",
   "id": "7895f9cd",
   "metadata": {},
   "source": [
    "### Algorithm to calculate $d_{i,vec}$ and $U_{i,vec}$"
   ]
  },
  {
   "cell_type": "markdown",
   "id": "e437fc29",
   "metadata": {},
   "source": [
    "For m by n duct bank , we count it by looping the rows. This means, the first row, it would be channel $1, 2, \\cdots, n$, where $n$ is the number of columns. \n",
    "\n",
    "For channel $i$, we can first find its row and column as $i_{row}$ and $i_{col}$. \n",
    "\n",
    "We define \n",
    "\n",
    "$$i_{loc} = (i_{row}, i_{col}).$$\n",
    "\n",
    "Define $k = [0, 1, 2, 3]$ to represent the four directions\n",
    "\n",
    "- $k = 0$: left\n",
    "\n",
    "- $k = 1$: top\n",
    "\n",
    "- $k = 2$: right\n",
    "\n",
    "- $k = 3$: down\n",
    "\n",
    "To loop these four direction, we can define \n",
    "\n",
    "$$k_{pair} = [(0, -1), (-1, 0), (0, 1), (1, 0)]. $$\n",
    "\n",
    "Then, we have the channel $i$'s neighbor set as\n",
    "\n",
    "$$i_{nbor} = i_{loc} + k_{pair}$$.\n",
    "\n",
    "For the specific $k$ direction neighbor, we have the location as\n",
    "\n",
    "$$k_{loc} = i_{loc} + k_{pair}[k] = (i_{row}, i_{col}) + k_{pair}[k] .$$\n",
    "\n",
    "and\n",
    "\n",
    "$$k_{loc} = (k_{loc, row}, k_{loc, col})$$\n",
    "\n",
    "\n",
    "It is worth noting that the object could be the concrete surface or another channel, which depends on the location of the channel $i$ in the concrete.\n",
    "\n",
    "Loop the channel $i$'s neighbor $k$, we have the following 4 cases\n",
    "\n",
    "- 1. left neighbor: $k = 0$, $k_{loc} = i_{loc} + k_{pair}[0] = (i_{row}, i_{col}) + (0, -1)$\n",
    "\n",
    "check if $k_{loc, col}$ < 0 or not. \n",
    "\n",
    "If yes to $k_{loc, col} < 0$, then the left object is the concrete wall, we have $d_{il} = d_{left}$\n",
    "\n",
    "If no to $k_{loc, col} < 0$, then the left object is another channel, we have $d_{il} = d_{hori}$\n",
    "\n",
    "\n",
    "- 2. top neighbor: $k = 1$, $k_{loc} = i_{loc} + k_{pair}[1] = (i_{row}, i_{col}) + (-1, 0)$\n",
    "\n",
    "check if $k_{loc, row}$ < 0 or not. \n",
    "\n",
    "If yes to $k_{loc, row}$ < 0, then the top object is the concrete wall, we have $d_{it} = d_{top}$\n",
    "\n",
    "If no to $k_{loc, row}$ < 0, then the top object is another channel, we have $d_{it} = d_{vert}$\n",
    "\n",
    "- 3. right neighbor, $k = 2$, $k_{loc} = i_{loc} + k_{pair}[2] = (i_{row}, i_{col}) + (0, 1)$\n",
    "\n",
    "check if $k_{loc, col}$ > (n-1) or not. \n",
    "\n",
    "If yes to $k_{loc, col}$ > (n-1), then the right object is the concrete wall, we have $d_{ir} = d_{right}$\n",
    "\n",
    "If no to $k_{loc, col}$ > (n-1), then the right object is another channel, we have $d_{ir} = d_{hori}$\n",
    "\n",
    "\n",
    "- 4. down neighbor, $k = 3$, $k_{loc} = i_{loc} + k_{pair}[3] = (i_{row}, i_{col}) + (1, 0)$\n",
    "\n",
    "check if $k_{loc, row}$ > (m-1)$ or not. \n",
    "\n",
    "If yes to $k_{loc, row}$ > (m-1), then the down object is the concrete wall, we have $d_{id} = d_{down}$\n",
    "\n",
    "If no to $k_{loc, row}$ > (m-1), then the down object is another channel, we have $d_{id} = d_{vert}$\n",
    "\n"
   ]
  },
  {
   "cell_type": "markdown",
   "id": "5689ffbb",
   "metadata": {},
   "source": [
    "### Part 1. Code to calculate $U_g$, $U_{vec}$"
   ]
  },
  {
   "cell_type": "code",
   "execution_count": 1,
   "id": "504639b7",
   "metadata": {},
   "outputs": [
    {
     "name": "stdout",
     "output_type": "stream",
     "text": [
      "The thermal conductance of the earth (U_g) (W/°C·ft): \n",
      "0.4428\n",
      "The distance to four neighbors are (inches): \n",
      "[[5.75 5.75 7.   5.5 ]\n",
      " [7.   5.75 5.75 5.5 ]\n",
      " [5.75 5.5  7.   5.5 ]\n",
      " [7.   5.5  5.75 5.5 ]\n",
      " [5.75 5.5  7.   5.75]\n",
      " [7.   5.5  5.75 5.75]]\n",
      "The conductance to four neighbhors are (W/°C·ft): \n",
      "[[1.1791 1.1791 1.1133 1.1951]\n",
      " [1.1133 1.1791 1.1791 1.1951]\n",
      " [1.1791 1.1951 1.1133 1.1951]\n",
      " [1.1133 1.1951 1.1791 1.1951]\n",
      " [1.1791 1.1951 1.1133 1.1791]\n",
      " [1.1133 1.1951 1.1791 1.1791]]\n"
     ]
    }
   ],
   "source": [
    "import numpy as np\n",
    "\n",
    "# Given inputs\n",
    "id_duct = 5 # inside diameter of the duct/conduit\n",
    "t_duct  = 0.25 # thickness of the duct \n",
    "od_duct = id_duct+2*t_duct # outside diameter of the duct\n",
    "r_d = od_duct/2\n",
    "\n",
    "d_top = 5.75\n",
    "d_down = 5.75\n",
    "d_left  = 5.75\n",
    "d_right = 5.75\n",
    "\n",
    "d_hori = 7    # horizontal distance, inch\n",
    "d_vert = 5.5  # vertical distance, inch\n",
    "m = 3         # rows of duct banks\n",
    "n = 2         # columns of duct banks\n",
    "N = m*n\n",
    "\n",
    "# given thermal resistance\n",
    "R_i = 0.9 # thermal ohm-foot, or ˚C·ft/W\n",
    "R_sd = 1.74 # thermal ohm-foot\n",
    "\n",
    "# thermal resistance: degree-cm/W\n",
    "rho_insulation = 550  # insulation\n",
    "rho_jacket = 550      # insulation jacket\n",
    "rho_duct = 480        # fiber duct\n",
    "rho_earth = 120       # earth\n",
    "rho_concrete = 85     # concrete\n",
    "\n",
    "x = 18.5        # concrete horizontal width\n",
    "y = 22.5        # concrete vertical depth\n",
    "dg = 36      # distance from the ground to the concrete top surface\n",
    "\n",
    "# 1. Calculate Ug\n",
    "# function in calculating the equivalent circle radius\n",
    "def cal_rb(x, y):\n",
    "    rb_c1 = x/y/2*(4/np.pi-x/y)\n",
    "    rb_c2 = np.log10(1+y**2/x**2)\n",
    "    rb_c3 = np.log10(x/2)   \n",
    "    rb = 10**(rb_c1*rb_c2+rb_c3)\n",
    "    return rb\n",
    "\n",
    "rb = cal_rb(x, y)\n",
    "Rg = 0.012*rho_earth*np.log10(dg+rb/rb) # thermal ohm-foot\n",
    "Ug = 1/Rg\n",
    "print('The thermal conductance of the earth (U_g) (W/°C·ft): \\n' + str(round(Ug, 4)))\n",
    "\n",
    "# 2. calculate U_vec\n",
    "\n",
    "# Initialize an array to store the distances and conductances for each channel\n",
    "d_vec = np.zeros((N, 4))\n",
    "U_vec = np.zeros((N, 4))\n",
    "\n",
    "k_pair = [(0, -1), (-1, 0), (0, 1), (1, 0)]\n",
    "\n",
    "# Loop through each channel\n",
    "for i in range(N):\n",
    "    # Find the row and column of the current channel\n",
    "    i_row = i // n\n",
    "    i_col = i % n\n",
    "    \n",
    "    # Initialize arrays to store the distances and conductances to the neighbors\n",
    "    nbor_d_vec = np.zeros(4)\n",
    "    nbor_U_vec = np.zeros(4)\n",
    "    \n",
    "    # Loop through each of the four directions\n",
    "    for k in range(4):\n",
    "        # Find the location of the neighbor in the k direction\n",
    "        k_loc = (i_row + k_pair[k][0], i_col + k_pair[k][1])\n",
    "        k_loc_row, k_loc_col = k_loc\n",
    "        \n",
    "        # Calculate the distance to the neighbor (either another channel or the concrete)\n",
    "        if k == 0:\n",
    "            # left neighbor\n",
    "            if k_loc_col < 0:\n",
    "                nbor_d_vec[k] = d_left\n",
    "            else:\n",
    "                nbor_d_vec[k] = d_hori\n",
    "        elif k == 1:\n",
    "            # top neighbor\n",
    "            if k_loc_row < 0:\n",
    "                nbor_d_vec[k] = d_top\n",
    "            else:\n",
    "                nbor_d_vec[k] = d_vert\n",
    "        elif k == 2:\n",
    "            # right neighbor\n",
    "            if k_loc_col > (n-1):\n",
    "                nbor_d_vec[k] = d_right\n",
    "            else:\n",
    "                nbor_d_vec[k] = d_hori\n",
    "        else:\n",
    "            # down neighbor\n",
    "            if k_loc_row > (m-1):\n",
    "                nbor_d_vec[k] = d_down\n",
    "            else:\n",
    "                nbor_d_vec[k] = d_vert\n",
    "            \n",
    "                \n",
    "        # Calculate the thermal conductance to the neighbor\n",
    "        d_ik = nbor_d_vec[k]\n",
    "        R_ik = 0.25 * (R_i + R_sd + 0.012 * rho_concrete * np.log(d_ik/r_d))\n",
    "        U_ik = 1/R_ik\n",
    "        \n",
    "        # Store the conductance to the current channel's neighbors\n",
    "        nbor_U_vec[k] = U_ik\n",
    "    \n",
    "    # Store the distances and conductances to the current channel's neighbors\n",
    "    d_vec[i] = nbor_d_vec\n",
    "    U_vec[i] = nbor_U_vec\n",
    "\n",
    "U_vec = np.round(U_vec, 4)\n",
    "print('The distance to four neighbors are (inches): \\n' + str(d_vec))\n",
    "print('The conductance to four neighbhors are (W/°C·ft): \\n' + str(U_vec))"
   ]
  },
  {
   "cell_type": "markdown",
   "id": "3d5a62ec",
   "metadata": {},
   "source": [
    "### Part 2. Code to calculate the A matrix and B matrix"
   ]
  },
  {
   "cell_type": "code",
   "execution_count": 2,
   "id": "4fc9e917",
   "metadata": {},
   "outputs": [
    {
     "name": "stdout",
     "output_type": "stream",
     "text": [
      "The four neighbor conductance of each channel (W/°C·ft): \n",
      "[[1.179 1.179 1.113 1.195]\n",
      " [1.113 1.179 1.179 1.195]\n",
      " [1.179 1.195 1.113 1.195]\n",
      " [1.113 1.195 1.179 1.195]\n",
      " [1.179 1.195 1.113 1.179]\n",
      " [1.113 1.195 1.179 1.179]]\n",
      "The total conductance of each channel (W/°C·ft): \n",
      "[4.6666 4.6666 4.6826 4.6826 4.6666 4.6666]\n",
      "A matrix is: \n",
      "[[ 0.     0.     0.     0.     0.     0.    -0.443]\n",
      " [-4.667  1.113  1.195  0.     0.     0.     2.358]\n",
      " [ 1.113 -4.667  0.     1.195  0.     0.     2.358]\n",
      " [ 1.195  0.    -4.683  1.113  1.195  0.     1.179]\n",
      " [ 0.     1.195  1.113 -4.683  0.     1.195  1.179]\n",
      " [ 0.     0.     1.195  0.    -4.667  1.113  2.358]\n",
      " [ 0.     0.     0.     1.195  1.113 -4.667  2.358]]\n",
      "A inverse is: \n",
      "[[-2.256 -0.252 -0.071 -0.08  -0.041 -0.024 -0.016]\n",
      " [-2.256 -0.071 -0.252 -0.041 -0.08  -0.016 -0.024]\n",
      " [-2.256 -0.08  -0.041 -0.275 -0.086 -0.08  -0.041]\n",
      " [-2.256 -0.041 -0.08  -0.086 -0.275 -0.041 -0.08 ]\n",
      " [-2.256 -0.024 -0.016 -0.08  -0.041 -0.252 -0.071]\n",
      " [-2.256 -0.016 -0.024 -0.041 -0.08  -0.071 -0.252]\n",
      " [-2.257 -0.    -0.    -0.    -0.    -0.    -0.   ]]\n"
     ]
    }
   ],
   "source": [
    "# Calculate A_block\n",
    "A_block = np.zeros((N, N))\n",
    "A_Td = np.zeros(N)\n",
    "\n",
    "# Loop through each channel\n",
    "for i in range(N):\n",
    "    # Find the row and column of the current channel\n",
    "    i_row = i // n\n",
    "    i_col = i % n\n",
    "    \n",
    "    # Initialize variable to store sum of conductances to neighbors\n",
    "    sum_U = 0\n",
    "    \n",
    "    # Loop through each of the four directions\n",
    "    for k in range(4):\n",
    "        # Find the location of the neighbor in the k direction\n",
    "        k_loc = (i_row + k_pair[k][0], i_col + k_pair[k][1])\n",
    "        k_loc_row, k_loc_col = k_loc\n",
    "        \n",
    "        # Add the conductance to the neighbor to the sum_U variable\n",
    "        sum_U += U_vec[i, k]\n",
    "        \n",
    "        # Check if neighbor is within duct bank\n",
    "        if k_loc_row >= 0 and k_loc_row < m and k_loc_col >= 0 and k_loc_col < n:\n",
    "            # Calculate the index of the neighbor in the channel array\n",
    "            k_idx = k_loc_row * n + k_loc_col\n",
    "            \n",
    "            # Assign the conductance to the neighbor to the corresponding position in A_block\n",
    "            A_block[i, k_idx] = U_vec[i, k]\n",
    "            \n",
    "        # If neighbor is outside duct bank, assume it is the concrete wall\n",
    "        else:\n",
    "            # Add the conductance to the concrete to the A_Td variable\n",
    "            A_Td[i] += U_vec[i, k]\n",
    "    \n",
    "    # Assign the sum of conductances to neighbors to the diagonal of A_block\n",
    "    A_block[i, i] = -sum_U\n",
    "\n",
    "# Combine A_block and A_Td into A matrix\n",
    "A = np.zeros((N+1, N+1))\n",
    "A[1:, :-1] = A_block\n",
    "A[1:, -1] = A_Td\n",
    "A[0, -1] = -Ug\n",
    "A = np.round(A, 3)\n",
    "print('The four neighbor conductance of each channel (W/°C·ft): \\n' + str(np.round(U_vec, 3)))\n",
    "row_sum = np.sum(U_vec, axis=1)\n",
    "print('The total conductance of each channel (W/°C·ft): \\n' + str(row_sum))\n",
    "print('A matrix is: \\n' + str(A))\n",
    "A_inv = np.linalg.inv(A)\n",
    "A_inv = np.round(A_inv, 3)\n",
    "print('A inverse is: \\n' + str(A_inv))"
   ]
  },
  {
   "cell_type": "code",
   "execution_count": 3,
   "id": "a0137d53",
   "metadata": {},
   "outputs": [
    {
     "name": "stdout",
     "output_type": "stream",
     "text": [
      "B matrix is: \n",
      "[[1.    1.    1.    1.    1.    1.    0.443]\n",
      " [1.    0.    0.    0.    0.    0.    0.   ]\n",
      " [0.    1.    0.    0.    0.    0.    0.   ]\n",
      " [0.    0.    1.    0.    0.    0.    0.   ]\n",
      " [0.    0.    0.    1.    0.    0.    0.   ]\n",
      " [0.    0.    0.    0.    1.    0.    0.   ]\n",
      " [0.    0.    0.    0.    0.    1.    0.   ]]\n"
     ]
    }
   ],
   "source": [
    "# Create B matrix by adding the identity matrix as the block diagonal and Ug as the last column of the first row\n",
    "B = np.zeros((N+1, N+1))\n",
    "B[0, :-1] = 1\n",
    "B[0, -1] = Ug\n",
    "B[1:, :-1] = np.identity(N)\n",
    "\n",
    "# Print the resulting matrix B\n",
    "print('B matrix is: \\n' + str(np.round(B, 3)))"
   ]
  },
  {
   "cell_type": "markdown",
   "id": "0cfb8d8a",
   "metadata": {},
   "source": [
    "### Part 3: Calculate the temperature"
   ]
  },
  {
   "cell_type": "code",
   "execution_count": 6,
   "id": "e8dd39cd",
   "metadata": {},
   "outputs": [
    {
     "name": "stdout",
     "output_type": "stream",
     "text": [
      "The input heat vector (in W/ft): \n",
      "[3.096 3.096 3.096 3.096 3.096 3.096]\n",
      "The input vector is: \n",
      "[ 3.096  3.096  3.096  3.096  3.096  3.096 25.   ]\n",
      "The temperature vector is (in °C): \n",
      "[68.381 68.381 68.75  68.75  68.381 68.381 66.913]\n"
     ]
    }
   ],
   "source": [
    "# define the input u\n",
    "R_dc = 8.6 # microhoms per foot\n",
    "I_vec = np.full(N, 0.6) # in kiloampere\n",
    "Q_vec = np.square(I_vec)*R_dc\n",
    "print('The input heat vector (in W/ft): \\n' + str(Q_vec))   # in W/ft\n",
    "T_a = 25 # ambient temperature is 25 °C\n",
    "u = np.append(Q_vec, T_a)\n",
    "print('The input vector is: \\n' + str(u))\n",
    "# check the results\n",
    "T_vec = - A_inv @ B @ u\n",
    "print('The temperature vector is (in °C): \\n' + str(np.round(T_vec, 3)))"
   ]
  },
  {
   "cell_type": "code",
   "execution_count": null,
   "id": "d5a9bcb5",
   "metadata": {},
   "outputs": [],
   "source": []
  }
 ],
 "metadata": {
  "kernelspec": {
   "display_name": "Python 3 (ipykernel)",
   "language": "python",
   "name": "python3"
  },
  "language_info": {
   "codemirror_mode": {
    "name": "ipython",
    "version": 3
   },
   "file_extension": ".py",
   "mimetype": "text/x-python",
   "name": "python",
   "nbconvert_exporter": "python",
   "pygments_lexer": "ipython3",
   "version": "3.8.0"
  }
 },
 "nbformat": 4,
 "nbformat_minor": 5
}
