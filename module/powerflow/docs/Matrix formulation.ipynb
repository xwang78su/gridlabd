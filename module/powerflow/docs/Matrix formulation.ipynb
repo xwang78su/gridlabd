{
 "cells": [
  {
   "cell_type": "markdown",
   "id": "619dc946",
   "metadata": {},
   "source": [
    "### This notebook is used to calculate the simplified duct bank model based on matrix formulation."
   ]
  },
  {
   "cell_type": "markdown",
   "id": "d0641de7",
   "metadata": {},
   "source": [
    "#### First we show an example of 3x2 duct bank and define several key parameters of the duct bank."
   ]
  },
  {
   "cell_type": "markdown",
   "id": "aeb156c8",
   "metadata": {},
   "source": [
    "![Example Box 3x2](box3x2.png \"Example Box 3x2\")"
   ]
  },
  {
   "cell_type": "markdown",
   "id": "0d4a6ef1",
   "metadata": {},
   "source": [
    "Here are the key parameters related to the duct bank, including their diameters and layout in the concrete. \n",
    "\n",
    "(todo - draw an illustrative figure)\n",
    "\n",
    "First we have the diameters and thickness of the duct bank.\n",
    "\n",
    "- $id_{duct}$: Inside diameter of the duct or conduit.\n",
    "\n",
    "- $t_{duct}$: Thickness of the duct.\n",
    "\n",
    "- $od_{duct}$: Outside diameter of the duct, calculated by adding two times $t_{duct}$ to $id_{duct}$.\n",
    "\n",
    "\n"
   ]
  },
  {
   "cell_type": "markdown",
   "id": "9d0dc0b2",
   "metadata": {},
   "source": [
    "Second, we have the layout of the duct bank in the concrete.\n",
    "\n",
    "- $row$: The number of rows of duct banks in the layout.\n",
    "\n",
    "- $col$: The number of columns of duct banks in the layout.\n",
    "\n",
    "- $x$: The shorter side of the rectangular duct bank, measured in inches.\n",
    "\n",
    "- $y$: The longer side of the rectangular duct bank, measured in inches.\n",
    "\n",
    "- $L_{top}$: The depth of the concrete top surface below the earth's surface, measured in inches.\n",
    "\n",
    "- $d_{vert}$: The vertical distance between the centers of two duct banks.\n",
    "\n",
    "- $d_{hori}$: The horizontal distance between the centers of two duct banks.\n",
    "\n",
    "- $d_{top}$: The distance between the center of the __first__ row duct bank and the concrete __top__ surface.\n",
    "\n",
    "- $d_{down}$: The distance between the center of the __last__ row duct bank and the concrete __button__ surface.\n",
    "\n",
    "- $d_{left}$: The distance between the center of the __first__ column duct bank and the concrete __left__ surface.\n",
    "\n",
    "- $d_{right}$: The distance between the center of the __last__ row duct bank and the concrete __right__ surface."
   ]
  },
  {
   "cell_type": "markdown",
   "id": "5e575880",
   "metadata": {},
   "source": [
    "#### Now we show the matrix formulation for 2 by 2 duct bank. "
   ]
  },
  {
   "cell_type": "markdown",
   "id": "4bee056a",
   "metadata": {},
   "source": [
    "Suppose we have a 2x2 duct bank system. There are four ducts indexed as $1, 2, 3, 4$. \n",
    "\n",
    "- $T_i, \\; i=$ 1, 2, 3, 4 is the cable core temperature for cable $i$\n",
    "- $Q_i$ is the heat source input from cable $i$ in watt\n",
    "\n",
    "The four ducts are confined in a concrete and buried underground. The heat come from the four cables and finally the concrete reaches a heat equilibrium by dissipating heat to the ambient air via the earth fill on top. We have\n",
    "\n",
    "- $T_d$ is the duct bank surface temperature in degree Celsius\n",
    "- $T_a$ is the ambient air temperature in degree Celsius.\n"
   ]
  },
  {
   "cell_type": "markdown",
   "id": "cba5d6e3",
   "metadata": {},
   "source": [
    "Now, we define \n",
    "\n",
    "- $R_{ii}$: the thermal resistance between the cable and the duct bank surface for cable $i$ (inside duct bank $i)\n",
    "\n",
    "- $R_{ij}$: the thermal resistance between cable $i$ and cable $j$\n",
    "\n",
    "Then we can write the following 5 thermal equilibrium equations:\n",
    "\n",
    "\\begin{equation}\n",
    "\\begin{aligned}\n",
    "T_d - T_a &= (Q_1 + Q_2 + Q_3 + Q_4) \\times R_g \\\\\n",
    "T_1 - T_d &= Q_1 R_{11} + Q_2 R_{12} + Q_3 R_{13} + Q_4 R_{14} \\\\\n",
    "T_2 - T_d &= Q_1 R_{21} + Q_2 R_{22} + Q_3 R_{23} + Q_4 R_{24} \\\\\n",
    "T_3 - T_d &= Q_1 R_{31} + Q_2 R_{32} + Q_3 R_{33} + Q_4 R_{34} \\\\\n",
    "T_4 - T_d &= Q_1 R_{41} + Q_2 R_{42} + Q_3 R_{43} + Q_4 R_{44}\n",
    "\\end{aligned}\n",
    "\\end{equation}\n",
    "\n"
   ]
  },
  {
   "cell_type": "markdown",
   "id": "53667e27",
   "metadata": {},
   "source": [
    "Defining\n",
    "\n",
    "\\begin{equation}\n",
    "\\boldsymbol{x} = \n",
    "\\begin{bmatrix}\n",
    "T_1 \\\\\n",
    "T_2 \\\\\n",
    "T_3 \\\\\n",
    "T_4 \\\\\n",
    "T_d \\\\\n",
    "\\end{bmatrix}\n",
    ", \\quad\n",
    "\\boldsymbol{u} = \n",
    "\\begin{bmatrix}\n",
    "Q_1 \\\\\n",
    "Q_2 \\\\\n",
    "Q_3 \\\\\n",
    "Q_4 \\\\\n",
    "T_a \\\\\n",
    "\\end{bmatrix}\n",
    ",\n",
    "\\end{equation}\n",
    "\n",
    "then we have the state-spacee equation as follows:"
   ]
  },
  {
   "cell_type": "markdown",
   "id": "8fcf00a2",
   "metadata": {},
   "source": [
    "$$\n",
    "\\boldsymbol{\\dot x} = \\boldsymbol{A} \\boldsymbol{x} + \\boldsymbol{B} \\boldsymbol{u}\n",
    "$$\n",
    "\n",
    "where \n",
    "\n",
    "\\begin{equation}\n",
    "\\boldsymbol{A} = \n",
    "\\begin{bmatrix}\n",
    "0& 0& 0& 0& -1\\\\\n",
    "-1& 0& 0& 0& 1\\\\\n",
    "0& -1& 0& 0& 1\\\\\n",
    "0& 0& -1& 0& 1\\\\\n",
    "0& 0& 0& -1& 1\\\\\n",
    "\\end{bmatrix}\n",
    ", \\quad\n",
    "\\boldsymbol{B} = \n",
    "\\begin{bmatrix}\n",
    "R_g& R_g& R_g& R_g& 1\\\\\n",
    "R_{11}& R_{12}& R_{13}& R_{14}& 0\\\\\n",
    "R_{21}& R_{22}& R_{23}& R_{24}& 0\\\\\n",
    "R_{31}& R_{32}& R_{33}& R_{34}& 0\\\\\n",
    "R_{41}& R_{42}& R_{43}& R_{44}& 0\\\\\n",
    "\\end{bmatrix}\n",
    "\\end{equation}"
   ]
  },
  {
   "cell_type": "markdown",
   "id": "d676b969",
   "metadata": {},
   "source": [
    "When the duct banks, concrete, and earth reach a heat equilibrium, we have $\\boldsymbol{\\dot x} = 0$."
   ]
  },
  {
   "cell_type": "markdown",
   "id": "634de993",
   "metadata": {},
   "source": [
    "Suppose the thermal resistance between "
   ]
  },
  {
   "cell_type": "markdown",
   "id": "ee318d38",
   "metadata": {},
   "source": [
    "In the following figure, the matrix A and B are given\n",
    "\n",
    "\\begin{equation}\n",
    "\\boldsymbol{A} = \n",
    "\\begin{bmatrix}\n",
    "0& 0& 0& 0& -1\\\\\n",
    "-1& 0& 0& 0& 1\\\\\n",
    "0& -1& 0& 0& 1\\\\\n",
    "0& 0& -1& 0& 1\\\\\n",
    "0& 0& 0& -1& 1\\\\\n",
    "\\end{bmatrix}\n",
    ", \\quad\n",
    "\\boldsymbol{B} = \n",
    "\\begin{bmatrix}\n",
    "R_g& R_g& R_g& R_g& 1\\\\\n",
    "R_1& R_{12}& R_{13}& R_{14}& 0\\\\\n",
    "R_{21}& R_2& R_{23}& R_{24}& 0\\\\\n",
    "R_{31}& R_{32}& R_3& R_{34}& 0\\\\\n",
    "R_{41}& R_{42}& R_{43}& R_4& 0\\\\\n",
    "\\end{bmatrix}\n",
    "\\end{equation}"
   ]
  },
  {
   "cell_type": "markdown",
   "id": "ca15392b",
   "metadata": {},
   "source": [
    "Therefore, we have \n",
    "\n",
    "$$\\boldsymbol{A} \\boldsymbol{x} + \\boldsymbol{B} \\boldsymbol{u} = 0,$$\n",
    "\n",
    "which enables us to get \n",
    "\n",
    "$$\\boldsymbol{x} = - \\boldsymbol{A}^{-1} \\boldsymbol{B} \\boldsymbol{u} $$\n"
   ]
  },
  {
   "cell_type": "markdown",
   "id": "08d7e3b8",
   "metadata": {},
   "source": [
    "<!-- ![Duct bank example 2 by 2](2by2example.jpg) -->"
   ]
  },
  {
   "cell_type": "markdown",
   "id": "c47de32d",
   "metadata": {},
   "source": [
    "#### The matrix formulation for N duct bank (m by n)"
   ]
  },
  {
   "cell_type": "markdown",
   "id": "7639cf8c",
   "metadata": {},
   "source": [
    "\\begin{equation}\n",
    "\\begin{aligned}\n",
    "T_d - T_a &= \\sum_{i=1}^N Q_i \\times R_g \\\\\n",
    "T_1 - T_d &= \\sum_{i=1}^N Q_i \\times R_{1i} \\\\\n",
    "T_2 - T_d &= \\sum_{i=1}^N Q_i \\times R_{2i} \\\\\n",
    "&\\vdots \\\\\n",
    "T_N - T_d &= \\sum_{i=1}^N Q_i \\times R_{Ni}\n",
    "\\end{aligned}\n",
    "\\end{equation}\n"
   ]
  },
  {
   "cell_type": "markdown",
   "id": "3a88db0c",
   "metadata": {},
   "source": [
    "Similarly, we can define\n",
    "\n",
    "\\begin{equation}\n",
    "\\boldsymbol{x} =\n",
    "\\begin{bmatrix}\n",
    "T_1 \\\\\n",
    "T_2 \\\\\n",
    "\\vdots \\\\\n",
    "T_N \\\\\n",
    "T_d \\\\\n",
    "\\end{bmatrix}\n",
    ", \\quad\n",
    "\\boldsymbol{u} =\n",
    "\\begin{bmatrix}\n",
    "Q_1 \\\\\n",
    "Q_2 \\\\\n",
    "\\vdots \\\\\n",
    "Q_N \\\\\n",
    "T_a \\\\\n",
    "\\end{bmatrix}\n",
    ",\n",
    "\\end{equation}\n"
   ]
  },
  {
   "cell_type": "markdown",
   "id": "47477579",
   "metadata": {},
   "source": [
    "then we have the state-spacee equation as follows:\n",
    "$$\n",
    "\\boldsymbol{\\dot x} = \\boldsymbol{A} \\boldsymbol{x} + \\boldsymbol{B} \\boldsymbol{u}\n",
    "$$\n",
    "\n",
    "where \n",
    "\n",
    "\\begin{equation}\n",
    "\\boldsymbol{A} =\n",
    "\\begin{bmatrix}\n",
    "0& 0& \\cdots & 0& -1\\\\\n",
    "-1& 0& \\cdots & 0& 1\\\\\n",
    "0& -1& \\cdots & 0& 1\\\\\n",
    "\\vdots& \\vdots& \\ddots & \\vdots& \\vdots\\\\\n",
    "0& 0& \\cdots & -1& 1\\\\\n",
    "\\end{bmatrix}\n",
    ", \\quad\n",
    "\\boldsymbol{B} =\n",
    "\\begin{bmatrix}\n",
    "R_g& R_g& \\cdots & R_g& 1\\\\\n",
    "R_{11}& R_{12}& \\cdots & R_{1N}& 0 \\\\\n",
    "R_{21}& R_{22}& \\cdots & R_{2N}& 0 \\\\\n",
    "\\vdots& \\vdots& \\ddots & \\vdots& \\vdots\\\\\n",
    "R_{N1}& R_{N2}& \\cdots & R_{NN}& 0\\\\\n",
    "\\end{bmatrix}\n",
    "\\end{equation}"
   ]
  },
  {
   "cell_type": "markdown",
   "id": "21c0938a",
   "metadata": {},
   "source": [
    "Similarly, we can obtain \n",
    "\n",
    "$$\\boldsymbol{x} = - \\boldsymbol{A}^{-1} \\boldsymbol{B} \\boldsymbol{u} $$\n",
    "\n",
    "when it reaches an thermal equilibrium $\\boldsymbol{\\dot x} = 0$."
   ]
  },
  {
   "cell_type": "markdown",
   "id": "07baf35e",
   "metadata": {},
   "source": [
    "#### Now we show the specific calculation of the $R_{ij}$"
   ]
  },
  {
   "cell_type": "markdown",
   "id": "c35d1322",
   "metadata": {},
   "source": [
    "Let us first review the parameters related to the duct banks.\n",
    "\n",
    "\n",
    "For the duct bank diameter and thickness, we have\n",
    "\n",
    "- $id_{duct}$: duct bank inside diameter\n",
    "\n",
    "- $od_{duct}$: duct bank outside diameter \n",
    "\n",
    "- $t_{duct}$:  duct bank wall thickness\n",
    "\n",
    "The layout of the duct banks are:\n",
    "\n",
    "- $row$: The number of rows of duct banks in the layout.\n",
    "\n",
    "- $col$: The number of columns of duct banks in the layout.\n",
    "\n",
    "- $d_{vert}$: The vertical distance between the centers of two duct banks.\n",
    "\n",
    "- $d_{hori}$: The horizontal distance between the centers of two duct banks.\n",
    "\n",
    "- $d_{top}$: The distance between the center of the __first__ row duct bank and the concrete __top__ surface.\n",
    "\n",
    "- $d_{down}$: The distance between the center of the __last__ row duct bank and the concrete __button__ surface.\n",
    "\n",
    "- $d_{left}$: The distance between the center of the __first__ column duct bank and the concrete __left__ surface.\n",
    "\n",
    "- $d_{right}$: The distance between the center of the __last__ row duct bank and the concrete __right__ surface.\n",
    "\n",
    "The concrete has the following dimensions:\n",
    "\n",
    "- $x$: horizontal length\n",
    "\n",
    "- $y$: vertical height \n"
   ]
  },
  {
   "cell_type": "markdown",
   "id": "3ae569ff",
   "metadata": {},
   "source": [
    "The calculation of $R_{ii}$ includes three parts:\n",
    "\n",
    "- $R_i$: Thermal resistance of the cable and its insulation\n",
    "\n",
    "- $R_{sd}$: Thermal resistance bewteen cable surface and surrounding duct (including the duct wall)\n",
    "\n",
    "- $R_c$: Thermal resistance between the duct surface and the surrounding concrete surface\n",
    "\n",
    "namely, $$ R_{ii} = R_i + R_{sd} + R_c .$$\n",
    "\n",
    "The detailed calculation of $R_i$ and $R_{sd}$ are given in verification code. Here we assume\n",
    "\n",
    "- $R_i$ = 0.9 # thermal ohm-foot\n",
    "\n",
    "- $R_{sd}$ = 1.74 3 thermal ohm-foot\n",
    "\n",
    "$R_c$ can be approximated by using the distance from the duct bank surface to the nearest concrete surface (we assume the concrete surface has the same temperature). \n",
    "\n",
    "Assuming this distance is $d_1$ for cable 1, then we have\n",
    "\n",
    "$R_c$ = $d_1 \\times \\rho_{concrete}$,\n",
    "\n",
    "where $\\rho_{concrete}$ is the thermal resistance of the concrete. For illustation, we assume $\\rho_{concrete} = 1$.\n"
   ]
  },
  {
   "cell_type": "markdown",
   "id": "6dfbe103",
   "metadata": {},
   "source": [
    "Before, we mentioned that the thermal heat equilibrium between the duct bank 1 and the concrete is given as\n",
    "\n",
    "$$T_1 - T_d = Q_1 R_{11} + Q_2 R_{12} + Q_3 R_{13} + Q_4 R_{14},$$\n",
    "\n",
    "which can also be written as \n",
    "\n",
    "$$T_1 - T_d = (Q_1 + \\gamma_{12} Q_2 + \\gamma_{13} Q_3 + \\gamma_{14} Q_4) R_{11} .$$\n",
    "\n",
    "This assumes that the heat source $Q_2$ is discounted by $\\gamma_{12}$ when it reaches to duct bank 1. Similarly, the other two heat sources will also be discounted by $\\gamma_{13}$ and $\\gamma_{14}$. This is feasible becuase, similar to the electric system, the thermal heat system also follows the superposition principle.\n",
    "\n",
    "The discount rate $\\gamma_{ij}$ (* may need to find the proper term) is determined by the distance between the centers of two duct banks $i$ and $j$. For illustration, we choose\n",
    "\n",
    "$$ \\gamma_{ij} = 1/d_{ij},$$\n",
    "\n",
    "where $d_{ij}$ is the distance between the two duct bank centers.\n",
    "\n",
    "Given the horizontal and vertical distances between two neighbor duct bank centers, $d_{ij}$ can be easily calculated. "
   ]
  },
  {
   "cell_type": "markdown",
   "id": "41a6915d",
   "metadata": {},
   "source": [
    "The code for calculating $R_{ij}$ is given as follows:"
   ]
  },
  {
   "cell_type": "code",
   "execution_count": 50,
   "id": "b298d655",
   "metadata": {},
   "outputs": [
    {
     "name": "stdout",
     "output_type": "stream",
     "text": [
      "[[5.643      0.80614286 1.026      0.63388491 0.513      0.43279834]\n",
      " [0.80614286 5.643      0.63388491 1.026      0.43279834 0.513     ]\n",
      " [1.026      0.63388491 5.643      0.80614286 1.026      0.63388491]\n",
      " [0.63388491 1.026      0.80614286 5.643      0.63388491 1.026     ]\n",
      " [0.513      0.43279834 1.026      0.63388491 5.643      0.80614286]\n",
      " [0.43279834 0.513      0.63388491 1.026      0.80614286 5.643     ]]\n"
     ]
    }
   ],
   "source": [
    "import numpy as np\n",
    "\n",
    "# Given inputs\n",
    "id_duct = 5 # inside diameter of the duct/conduit\n",
    "t_duct  = 0.25 # thickness of the duct \n",
    "od_duct = id_duct+2*t_duct # outside diameter of the duct\n",
    "rd_duct = od_duct/2\n",
    "\n",
    "d_top = 5.75\n",
    "d_button = 5.75\n",
    "d_left  = 5.75\n",
    "d_right = 5.75\n",
    "\n",
    "d_hori = 7    # horizontal distance, inch\n",
    "d_vert = 5.5  # vertical distance, inch\n",
    "m = 3         # rows of duct banks\n",
    "n = 2         # columns of duct banks\n",
    "\n",
    "# Calculate R_ii for each duct bank\n",
    "R_i = 0.9 # thermal ohm-foot\n",
    "R_sd = 1.743 # thermal ohm-foot\n",
    "rho_concrete = 1 # thermal ohm-inch\n",
    "\n",
    "# Calculate R_ii for each duct bank\n",
    "R_ii = []\n",
    "for i in range(m*n):\n",
    "    # Calculate R_c\n",
    "    if i < n:  # first row duct banks\n",
    "        d_1 = d_top - rd_duct\n",
    "    elif i >= m*n - n:  # last row duct banks\n",
    "        d_1 = d_button - rd_duct\n",
    "    elif i % n == 0:  # first column duct banks (excluding first and last rows)\n",
    "        d_1 = d_left - rd_duct\n",
    "    elif (i + 1) % n == 0:  # last column duct banks (excluding first and last rows)\n",
    "        d_1 = d_right - rd_duct\n",
    "    else:  # inner duct banks\n",
    "        print('i = ' + str(i))\n",
    "        # determine how inner it is\n",
    "        i_row = i // n\n",
    "        i_col = i % n\n",
    "        print(i_row, i_col)\n",
    "        # calculate the distances to the nearest concrete surface in each direction\n",
    "        d_top_inner = d_top + i_row * d_vert\n",
    "        d_bottom_inner = d_button + (m - 1 - i_row) * d_vert\n",
    "        d_left_inner = d_left + i_col * d_hori\n",
    "        d_right_inner = d_right + (n - 1 - i_col) * d_hori\n",
    "        # check the results\n",
    "        print(i_row, m - 1 - i_row, i_col, n - 1 - i_col)\n",
    "        # find the minimum distance among the four directions\n",
    "        d_1 = min(d_top_inner, d_bottom_inner, d_left_inner, d_right_inner)\n",
    "    R_c = d_1 * rho_concrete # thermal ohm-inch/W\n",
    "    \n",
    "    # Calculate R_ii\n",
    "    R_ii.append(R_i + R_sd + R_c)\n",
    "\n",
    "# Calculate R_ij for each pair of duct banks\n",
    "R_ij = np.zeros((m*n, m*n))\n",
    "for i in range(m*n):  # start from zero\n",
    "    for j in range(m*n):\n",
    "        if i == j:\n",
    "            R_ij[i, j] = R_ii[i]\n",
    "        else:\n",
    "            i_row = i // n\n",
    "            i_col = i % n\n",
    "            j_row = j // n\n",
    "            j_col = j % n\n",
    "            row_diff = np.abs(i_row - j_row)\n",
    "            col_diff = np.abs(i_col - j_col)\n",
    "            if i_row == j_row:  # same row, horizontal distance\n",
    "                d_ij = d_hori*col_diff\n",
    "            elif (i % n) == (j % n):  # same column, vertical distance\n",
    "                d_ij = d_vert*row_diff\n",
    "            else:  # diagonal\n",
    "                d_ij = np.sqrt((d_hori*col_diff)**2 + (d_vert*row_diff)**2)\n",
    "            gamma_ij = 1/d_ij\n",
    "            R_ij[i, j] = gamma_ij*R_ii[i]\n",
    "print(R_ij)"
   ]
  }
 ],
 "metadata": {
  "kernelspec": {
   "display_name": "Python 3 (ipykernel)",
   "language": "python",
   "name": "python3"
  },
  "language_info": {
   "codemirror_mode": {
    "name": "ipython",
    "version": 3
   },
   "file_extension": ".py",
   "mimetype": "text/x-python",
   "name": "python",
   "nbconvert_exporter": "python",
   "pygments_lexer": "ipython3",
   "version": "3.8.0"
  }
 },
 "nbformat": 4,
 "nbformat_minor": 5
}
