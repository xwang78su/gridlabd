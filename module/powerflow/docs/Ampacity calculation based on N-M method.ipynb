{
 "cells": [
  {
   "cell_type": "markdown",
   "id": "4b375280",
   "metadata": {},
   "source": [
    "In this notebook, we will use Python to calculate the ampacity of a cable based on its thermal resistance and the given ambient temperature and current.\n",
    "\n",
    "The reference paper is [here](https://citeseerx.ist.psu.edu/document?repid=rep1&type=pdf&doi=e46fd00335c248c5ecbeef370e53374166dc16d4)"
   ]
  },
  {
   "cell_type": "markdown",
   "id": "6734fc05",
   "metadata": {},
   "source": [
    "Inputs\n",
    "\n",
    "- The ambient temperature (Ta) in degrees Celsius\n",
    "\n",
    "- The current (I_given) in amperes\n",
    "\n",
    "- The conductor resistance (R_dc) in microhms per foot at 25 degrees Celsius\n",
    "\n",
    "- The cable data, including the diameter of the segmental conductor (Dc), the diameter of the insulation (Di), and the diameter of the sheath (Ds) in inches\n",
    "\n",
    "- The duct bank data, including the number of conductors per cable (nn), the number of cables per duct (N), the inside diameter of the duct (id_duct), the thickness of the duct (t_duct), and the outside diameter of the duct (od_duct)\n",
    "\n",
    "- The duct bank layout, including the number of rows (row) and columns (col) of the duct banks, the depth of the reference cable below the earth's surface (L) in inches, the vertical distance between the centers of two duct banks (d_vert) in inches, the horizontal distance between the centers of two duct banks (d_hori) in inches, the short side of the duct (x) in inches, the long side of the duct (y) in inches, and the depth to the center of a duct bank (Lb) in inches\n",
    "\n",
    "- The thermal resistances of the insulation (rho_insulation), insulation jacket (rho_jacket), fiber duct (rho_duct), earth (rho_earth), and concrete (rho_concrete)\n",
    "\n",
    "- The concrete/earth thermal resistance parameters, including the loss factor (LF), the fictitious diameter at which the effect of the loss factor commences (Dx), and the diameter at the start of the earth portion of the thermal circuit (De)"
   ]
  },
  {
   "cell_type": "code",
   "execution_count": 5,
   "id": "e9d24412",
   "metadata": {},
   "outputs": [],
   "source": [
    "import numpy as np\n",
    "\n",
    "# input1: temperature and current info\n",
    "Ta = 25     # ambient temperture, degree C\n",
    "I_given = 700   # in amp\n",
    "\n",
    "# input2: conductor resistance\n",
    "R_dc = 8.6   # microhms per foot; at 25 degree C\n",
    "\n",
    "# input3: cable data: inches\n",
    "Dc = 1.543 # diameter of the segmental conductor\n",
    "Di = 2.113 # diameter of insulation, outside\n",
    "Ds = 2.373 # diameter of sheath, outside\n",
    "\n",
    "# input4: duct bank data\n",
    "nn = 1     # number of conductors per cable [abc]\n",
    "N  = 6     # number of cables/duct\n",
    "id_duct = 5 # inside diameter of the duct/conduit\n",
    "t_duct  = 0.25 # thickness of the duct \n",
    "od_duct = id_duct+2*t_duct # outside diameter of the duct\n",
    "\n",
    "# input5: duct bank layout\n",
    "row = 3  # row of the duct banks\n",
    "col = 2  # column of the duct banks\n",
    "L = 43.5 # depth of reference cable below earth's surface, inches\n",
    "d_vert = 9  # vertical distance between centers of two duct bank\n",
    "d_hori = 9  # horizontal distance between centers of two duct bank\n",
    "x = 18      # short side of the duct\n",
    "y = 27      # long side of the duct\n",
    "Lb= 43.5    # depth to the center of a duct bank, inches\n",
    "\n",
    "# input6: thermal resistance: degree-cm/W\n",
    "rho_insulation = 550  # insulation\n",
    "rho_jacket = 550      # insulation jacket\n",
    "rho_duct = 480        # fiber duct\n",
    "rho_earth = 120       # earth\n",
    "rho_concrete = 85     # concrete\n",
    "\n",
    "# input 7: concrete/earth thermal resistance\n",
    "LF = 0.8 # loss factor\n",
    "Dx = 8.3 # ficitious diameter at which the effect of loss factor commences\n",
    "De = od_duct # diameter at start of the earth portion of the thermal circuit"
   ]
  },
  {
   "cell_type": "markdown",
   "id": "5a118c8d",
   "metadata": {},
   "source": [
    "Intermidate variables\n",
    "\n",
    "- Ri: Thermal resistance of insulation (ohm-foot)\n",
    "\n",
    "- Rsd: Thermal resistance of segmental conductor (ohm-foot)\n",
    "\n",
    "- Rd: Thermal resistance of fiber duct (ohm-foot)\n",
    "\n",
    "- F: Mutual heating factor\n",
    " \n",
    "- Gb: Duct bank geometric factor\n",
    "\n",
    "- Re: Thermal resistance for the whole duct bank including the earth on top (ohm-foot)\n",
    "\n",
    "- Rca: Total thermal resistance (ohm-foot)"
   ]
  },
  {
   "cell_type": "code",
   "execution_count": 6,
   "id": "b5248aed",
   "metadata": {},
   "outputs": [
    {
     "name": "stdout",
     "output_type": "stream",
     "text": [
      "Ri: 0.9011215685284898\n",
      "Rsd: 1.740446462353386\n",
      "Rd: 0.2377142857142857\n",
      "Mutual heating factor F:41985\n",
      "Duct bank geometric factor Gb: 0.87\n",
      "Re: 6.786975006697016\n",
      "Rca: 9.666257323293177\n"
     ]
    }
   ],
   "source": [
    "# cal1: calculate the thermal resistance: Ri, Rsd, Rd\n",
    "Ri = 0.012*rho_insulation*np.log10(Di/Dc) # thermal ohm-foot\n",
    "Ap = 4.6    # default parameter 1\n",
    "Bp = 0.27   # default parameter 2\n",
    "Rsd = nn*Ap/(Ds+Bp) # thermal ohm-foot\n",
    "De = od_duct\n",
    "Rd = 0.0104*rho_duct*nn*t_duct/(od_duct-t_duct)\n",
    "print(\"Ri: \" + str(Ri))\n",
    "print(\"Rsd: \" + str(Rsd))\n",
    "print(\"Rd: \" + str(Rd))\n",
    "\n",
    "\n",
    "# cal2: function in calculating the mutual heating factor F\n",
    "def cal_mut_heat(row, col, L, d_vert, d_hori): \n",
    "    N = row*col     # total # of duct banks\n",
    "    d_diag = (d_vert**2 + d_hori**2)**0.5\n",
    "    d_vec = np.array([1, d_vert, d_vert, d_hori, d_diag, d_diag])\n",
    "    d_diag_short = (d_hori**2 + (2*L-d_vert)**2)**0.5\n",
    "    d_diag_mid   = (d_hori**2 + (2*L)**2)**0.5\n",
    "    d_diag_long  = (d_hori**2 + (2*L+d_vert)**2)**0.5\n",
    "    D_vec = np.array([1, 2*L-d_vert, 2*L+d_vert, d_diag_short, d_diag_mid, d_diag_long])\n",
    "    product1 = np.prod(d_vec)\n",
    "    product2 = np.prod(D_vec)\n",
    "    F = round(product2/product1)\n",
    "\n",
    "    return F\n",
    "\n",
    "F = cal_mut_heat(row, col, L, d_vert, d_hori)\n",
    "print(\"Mutual heating factor F:\" + str(F))\n",
    "\n",
    "# cal3: function in calculating the geometric factor Gb\n",
    "def cal_geo_factor(x, y, Lb):\n",
    "    rb_c1 = x/y/2*(4/np.pi-x/y)\n",
    "    rb_c2 = np.log10(1+y**2/x**2)\n",
    "    rb_c3 = np.log10(x/2)   \n",
    "    rb = 10**(rb_c1*rb_c2+rb_c3)\n",
    "    u = Lb/rb         # 3.4\n",
    "    Gb =  np.log10(u+(u**2-1)**0.5) # geometric factor applying to a duct bank \n",
    "    Gb = round(Gb, 2)\n",
    "\n",
    "    return Gb\n",
    "\n",
    "Gb = cal_geo_factor(x, y, Lb)\n",
    "print(\"Duct bank geometric factor Gb: \" + str(Gb)) # now match the table result\n",
    "\n",
    "# cal4: thermal resistance for the whole duct bank including the earth on top\n",
    "Re_1 = np.log10(Dx/De)\n",
    "Re_2 = LF*np.log10(4*L/Dx*F)\n",
    "Re_corr = 0.012*(rho_earth-rho_concrete)*nn*N*LF*Gb\n",
    "Re = 0.012*rho_concrete*nn*(Re_1+Re_2)+Re_corr\n",
    "print(\"Re: \" + str(Re))\n",
    "\n",
    "# the total thermal resistance\n",
    "Rca = Ri + Rsd + Rd + Re\n",
    "print(\"Rca: \" + str(Rca))"
   ]
  },
  {
   "cell_type": "markdown",
   "id": "5880c6fc",
   "metadata": {},
   "source": [
    "Final output\n",
    "\n",
    "- Tc: Cable core temperature (in degree C)"
   ]
  },
  {
   "cell_type": "code",
   "execution_count": 7,
   "id": "f6da6928",
   "metadata": {},
   "outputs": [
    {
     "name": "stdout",
     "output_type": "stream",
     "text": [
      "The given current is: 700(in amp)\n",
      "Cable core temperature is: 65.7(in deg C)\n"
     ]
    }
   ],
   "source": [
    "# cal5: calculate the temperature given the current\n",
    "print(\"The given current is: \" + str(I_given) + \"(in amp)\")\n",
    "Tc = Ta + (I_given/1000)**2*R_dc*Rca  # in deg C\n",
    "Tc = round(Tc, 1)\n",
    "print(\"Cable core temperature is: \" + str(Tc) + \"(in deg C)\")"
   ]
  }
 ],
 "metadata": {
  "kernelspec": {
   "display_name": "Python 3 (ipykernel)",
   "language": "python",
   "name": "python3"
  },
  "language_info": {
   "codemirror_mode": {
    "name": "ipython",
    "version": 3
   },
   "file_extension": ".py",
   "mimetype": "text/x-python",
   "name": "python",
   "nbconvert_exporter": "python",
   "pygments_lexer": "ipython3",
   "version": "3.8.0"
  }
 },
 "nbformat": 4,
 "nbformat_minor": 5
}
